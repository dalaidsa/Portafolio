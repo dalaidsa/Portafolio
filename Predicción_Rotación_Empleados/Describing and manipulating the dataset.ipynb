{
 "cells": [
  {
   "cell_type": "markdown",
   "metadata": {},
   "source": [
    "# Modelo de Predicción de Rotación de Empleados \n",
    "\n",
    "#### Autor: Dalaí Serrano Alavez\n",
    "\n",
    "#### Likedin: https://www.linkedin.com/in/dalser/\n",
    "\n",
    "#### email: dalai.dsa@gmail.com\n",
    "\n",
    "#### Fuente: Datacamp - Human Resources Analytics: Predicting Employee Churn in Python"
   ]
  },
  {
   "cell_type": "markdown",
   "metadata": {},
   "source": [
    "## 1. Explorar, manipular, transformar y análizar los datos"
   ]
  },
  {
   "cell_type": "code",
   "execution_count": 1,
   "metadata": {},
   "outputs": [],
   "source": [
    "## Input\n",
    "# Se cargan las librerías\n",
    "\n",
    "# Paso 0\n",
    "# Explorar y transformar los datos\n",
    "import pandas as pd\n",
    "\n",
    "# Paso 1\n",
    "# Vizualización de la correlación lineal\n",
    "import matplotlib.pyplot as plt\n",
    "import seaborn as sns\n",
    "\n",
    "# Paso 3\n",
    "# Modelo predictivo\n",
    "from sklearn.model_selection import train_test_split\n",
    "\n",
    "# Paso 4\n",
    "# Algoritmo del árbol de decisión\n",
    "from sklearn.tree import DecisionTreeClassifier\n",
    "\n",
    "# Visualización del árbol de decisión\n",
    "from sklearn.tree import export_graphviz\n",
    "from sklearn import tree\n",
    "# Visualizar el árbol de decisiones con graphviz\n",
    "from dtreeviz.trees import *\n",
    "\n",
    "# Importar la función para calcular la puntación de precisión\n",
    "from sklearn.metrics import precision_score\n",
    "\n",
    "# Importar la función para calcular la puntuación de recuperación\n",
    "from sklearn.metrics import recall_score\n",
    "\n",
    "# Importar la función para calcular la puntuación ROC/AUC\n",
    "from sklearn.metrics import roc_auc_score\n",
    "\n",
    "# Importar la función para implementar la validación cruzada\n",
    "from sklearn.model_selection import cross_val_score\n",
    "\n",
    "# Importar la función GridSearchCV\n",
    "from sklearn.model_selection import GridSearchCV"
   ]
  },
  {
   "cell_type": "code",
   "execution_count": 2,
   "metadata": {},
   "outputs": [
    {
     "data": {
      "text/html": [
       "<div>\n",
       "<style scoped>\n",
       "    .dataframe tbody tr th:only-of-type {\n",
       "        vertical-align: middle;\n",
       "    }\n",
       "\n",
       "    .dataframe tbody tr th {\n",
       "        vertical-align: top;\n",
       "    }\n",
       "\n",
       "    .dataframe thead th {\n",
       "        text-align: right;\n",
       "    }\n",
       "</style>\n",
       "<table border=\"1\" class=\"dataframe\">\n",
       "  <thead>\n",
       "    <tr style=\"text-align: right;\">\n",
       "      <th></th>\n",
       "      <th>satisfaction</th>\n",
       "      <th>evaluation</th>\n",
       "      <th>number_of_projects</th>\n",
       "      <th>average_montly_hours</th>\n",
       "      <th>time_spend_company</th>\n",
       "      <th>work_accident</th>\n",
       "      <th>churn</th>\n",
       "      <th>promotion</th>\n",
       "      <th>department</th>\n",
       "      <th>salary</th>\n",
       "    </tr>\n",
       "  </thead>\n",
       "  <tbody>\n",
       "    <tr>\n",
       "      <th>0</th>\n",
       "      <td>0.38</td>\n",
       "      <td>0.53</td>\n",
       "      <td>2</td>\n",
       "      <td>157</td>\n",
       "      <td>3</td>\n",
       "      <td>0</td>\n",
       "      <td>1</td>\n",
       "      <td>0</td>\n",
       "      <td>sales</td>\n",
       "      <td>low</td>\n",
       "    </tr>\n",
       "    <tr>\n",
       "      <th>1</th>\n",
       "      <td>0.80</td>\n",
       "      <td>0.86</td>\n",
       "      <td>5</td>\n",
       "      <td>262</td>\n",
       "      <td>6</td>\n",
       "      <td>0</td>\n",
       "      <td>1</td>\n",
       "      <td>0</td>\n",
       "      <td>sales</td>\n",
       "      <td>medium</td>\n",
       "    </tr>\n",
       "    <tr>\n",
       "      <th>2</th>\n",
       "      <td>0.11</td>\n",
       "      <td>0.88</td>\n",
       "      <td>7</td>\n",
       "      <td>272</td>\n",
       "      <td>4</td>\n",
       "      <td>0</td>\n",
       "      <td>1</td>\n",
       "      <td>0</td>\n",
       "      <td>sales</td>\n",
       "      <td>medium</td>\n",
       "    </tr>\n",
       "    <tr>\n",
       "      <th>3</th>\n",
       "      <td>0.72</td>\n",
       "      <td>0.87</td>\n",
       "      <td>5</td>\n",
       "      <td>223</td>\n",
       "      <td>5</td>\n",
       "      <td>0</td>\n",
       "      <td>1</td>\n",
       "      <td>0</td>\n",
       "      <td>sales</td>\n",
       "      <td>low</td>\n",
       "    </tr>\n",
       "    <tr>\n",
       "      <th>4</th>\n",
       "      <td>0.37</td>\n",
       "      <td>0.52</td>\n",
       "      <td>2</td>\n",
       "      <td>159</td>\n",
       "      <td>3</td>\n",
       "      <td>0</td>\n",
       "      <td>1</td>\n",
       "      <td>0</td>\n",
       "      <td>sales</td>\n",
       "      <td>low</td>\n",
       "    </tr>\n",
       "  </tbody>\n",
       "</table>\n",
       "</div>"
      ],
      "text/plain": [
       "   satisfaction  evaluation  number_of_projects  average_montly_hours  \\\n",
       "0          0.38        0.53                   2                   157   \n",
       "1          0.80        0.86                   5                   262   \n",
       "2          0.11        0.88                   7                   272   \n",
       "3          0.72        0.87                   5                   223   \n",
       "4          0.37        0.52                   2                   159   \n",
       "\n",
       "   time_spend_company  work_accident  churn  promotion department  salary  \n",
       "0                   3              0      1          0      sales     low  \n",
       "1                   6              0      1          0      sales  medium  \n",
       "2                   4              0      1          0      sales  medium  \n",
       "3                   5              0      1          0      sales     low  \n",
       "4                   3              0      1          0      sales     low  "
      ]
     },
     "execution_count": 2,
     "metadata": {},
     "output_type": "execute_result"
    }
   ],
   "source": [
    "## Trasnformación del dataset\n",
    "\n",
    "# Cargamos el archivo CSV y obtenemos la información del dataset\n",
    "data0 = pd.read_csv('C:/Users/dalse/Documents/RyS/Datacamp/HRAnalyticsInPython/Input/turnover.csv')\n",
    "\n",
    "# Visualizar las primeras filas del dataframe\n",
    "data0.head()"
   ]
  },
  {
   "cell_type": "code",
   "execution_count": 3,
   "metadata": {},
   "outputs": [
    {
     "name": "stdout",
     "output_type": "stream",
     "text": [
      "<class 'pandas.core.frame.DataFrame'>\n",
      "RangeIndex: 14999 entries, 0 to 14998\n",
      "Data columns (total 10 columns):\n",
      " #   Column                Non-Null Count  Dtype  \n",
      "---  ------                --------------  -----  \n",
      " 0   satisfaction          14999 non-null  float64\n",
      " 1   evaluation            14999 non-null  float64\n",
      " 2   number_of_projects    14999 non-null  int64  \n",
      " 3   average_montly_hours  14999 non-null  int64  \n",
      " 4   time_spend_company    14999 non-null  int64  \n",
      " 5   work_accident         14999 non-null  int64  \n",
      " 6   churn                 14999 non-null  int64  \n",
      " 7   promotion             14999 non-null  int64  \n",
      " 8   department            14999 non-null  object \n",
      " 9   salary                14999 non-null  object \n",
      "dtypes: float64(2), int64(6), object(2)\n",
      "memory usage: 1.1+ MB\n"
     ]
    }
   ],
   "source": [
    "# Obtener el tipo de varibles del dataset 'turnover'\n",
    "data0.info()"
   ]
  },
  {
   "cell_type": "code",
   "execution_count": 4,
   "metadata": {},
   "outputs": [
    {
     "name": "stdout",
     "output_type": "stream",
     "text": [
      "Valores únicos en 'salary': ['low' 'medium' 'high']\n",
      "Valores únicos en 'departament': ['sales' 'accounting' 'hr' 'technical' 'support' 'management' 'IT'\n",
      " 'product_mng' 'marketing' 'RandD']\n"
     ]
    }
   ],
   "source": [
    "# Tranformar el dtype object de los campos \n",
    "# department (variable nominal) y salary (variable ordinal)\n",
    "\n",
    "valores_department = data0.department.unique()\n",
    "\n",
    "valores_salary = data0.salary.unique()\n",
    "\n",
    "# Imprimir valores únicos de los campos salary y department\n",
    "print(\n",
    "    f\"Valores únicos en 'salary': {valores_salary}\",\n",
    "    f\"Valores únicos en 'departament': {valores_department}\",\n",
    "    sep = '\\n'\n",
    "    )"
   ]
  },
  {
   "cell_type": "markdown",
   "metadata": {},
   "source": [
    "### Transformar variables categóricas 'salary' y 'department'"
   ]
  },
  {
   "cell_type": "code",
   "execution_count": 5,
   "metadata": {},
   "outputs": [],
   "source": [
    "# Cambiar el tipo del campo salary a categorical\n",
    "data0.salary = data0.salary.astype('category')\n",
    "\n",
    "# # Crear el orden correcto de categorías\n",
    "data0.salary = data0.salary.cat.reorder_categories(['low', 'medium', 'high'])\n",
    "\n",
    "# # Devuelve las categorias con valores numéricos\n",
    "data0.salary = data0.salary.cat.codes"
   ]
  },
  {
   "cell_type": "code",
   "execution_count": 6,
   "metadata": {},
   "outputs": [
    {
     "data": {
      "text/html": [
       "<div>\n",
       "<style scoped>\n",
       "    .dataframe tbody tr th:only-of-type {\n",
       "        vertical-align: middle;\n",
       "    }\n",
       "\n",
       "    .dataframe tbody tr th {\n",
       "        vertical-align: top;\n",
       "    }\n",
       "\n",
       "    .dataframe thead th {\n",
       "        text-align: right;\n",
       "    }\n",
       "</style>\n",
       "<table border=\"1\" class=\"dataframe\">\n",
       "  <thead>\n",
       "    <tr style=\"text-align: right;\">\n",
       "      <th></th>\n",
       "      <th>IT</th>\n",
       "      <th>RandD</th>\n",
       "      <th>accounting</th>\n",
       "      <th>hr</th>\n",
       "      <th>management</th>\n",
       "      <th>marketing</th>\n",
       "      <th>product_mng</th>\n",
       "      <th>sales</th>\n",
       "      <th>support</th>\n",
       "      <th>technical</th>\n",
       "    </tr>\n",
       "  </thead>\n",
       "  <tbody>\n",
       "    <tr>\n",
       "      <th>0</th>\n",
       "      <td>0</td>\n",
       "      <td>0</td>\n",
       "      <td>0</td>\n",
       "      <td>0</td>\n",
       "      <td>0</td>\n",
       "      <td>0</td>\n",
       "      <td>0</td>\n",
       "      <td>1</td>\n",
       "      <td>0</td>\n",
       "      <td>0</td>\n",
       "    </tr>\n",
       "    <tr>\n",
       "      <th>1</th>\n",
       "      <td>0</td>\n",
       "      <td>0</td>\n",
       "      <td>0</td>\n",
       "      <td>0</td>\n",
       "      <td>0</td>\n",
       "      <td>0</td>\n",
       "      <td>0</td>\n",
       "      <td>1</td>\n",
       "      <td>0</td>\n",
       "      <td>0</td>\n",
       "    </tr>\n",
       "    <tr>\n",
       "      <th>2</th>\n",
       "      <td>0</td>\n",
       "      <td>0</td>\n",
       "      <td>0</td>\n",
       "      <td>0</td>\n",
       "      <td>0</td>\n",
       "      <td>0</td>\n",
       "      <td>0</td>\n",
       "      <td>1</td>\n",
       "      <td>0</td>\n",
       "      <td>0</td>\n",
       "    </tr>\n",
       "    <tr>\n",
       "      <th>3</th>\n",
       "      <td>0</td>\n",
       "      <td>0</td>\n",
       "      <td>0</td>\n",
       "      <td>0</td>\n",
       "      <td>0</td>\n",
       "      <td>0</td>\n",
       "      <td>0</td>\n",
       "      <td>1</td>\n",
       "      <td>0</td>\n",
       "      <td>0</td>\n",
       "    </tr>\n",
       "    <tr>\n",
       "      <th>4</th>\n",
       "      <td>0</td>\n",
       "      <td>0</td>\n",
       "      <td>0</td>\n",
       "      <td>0</td>\n",
       "      <td>0</td>\n",
       "      <td>0</td>\n",
       "      <td>0</td>\n",
       "      <td>1</td>\n",
       "      <td>0</td>\n",
       "      <td>0</td>\n",
       "    </tr>\n",
       "  </tbody>\n",
       "</table>\n",
       "</div>"
      ],
      "text/plain": [
       "   IT  RandD  accounting  hr  management  marketing  product_mng  sales  \\\n",
       "0   0      0           0   0           0          0            0      1   \n",
       "1   0      0           0   0           0          0            0      1   \n",
       "2   0      0           0   0           0          0            0      1   \n",
       "3   0      0           0   0           0          0            0      1   \n",
       "4   0      0           0   0           0          0            0      1   \n",
       "\n",
       "   support  technical  \n",
       "0        0          0  \n",
       "1        0          0  \n",
       "2        0          0  \n",
       "3        0          0  \n",
       "4        0          0  "
      ]
     },
     "execution_count": 6,
     "metadata": {},
     "output_type": "execute_result"
    }
   ],
   "source": [
    "# Transformar y obtener el dataframe departments desde la variable nominal 'department',\n",
    "# utilizando las variables ficticias\n",
    "departments = pd.get_dummies(data0.department)\n",
    "\n",
    "departments.head()"
   ]
  },
  {
   "cell_type": "code",
   "execution_count": 7,
   "metadata": {},
   "outputs": [
    {
     "data": {
      "text/html": [
       "<div>\n",
       "<style scoped>\n",
       "    .dataframe tbody tr th:only-of-type {\n",
       "        vertical-align: middle;\n",
       "    }\n",
       "\n",
       "    .dataframe tbody tr th {\n",
       "        vertical-align: top;\n",
       "    }\n",
       "\n",
       "    .dataframe thead th {\n",
       "        text-align: right;\n",
       "    }\n",
       "</style>\n",
       "<table border=\"1\" class=\"dataframe\">\n",
       "  <thead>\n",
       "    <tr style=\"text-align: right;\">\n",
       "      <th></th>\n",
       "      <th>satisfaction</th>\n",
       "      <th>evaluation</th>\n",
       "      <th>number_of_projects</th>\n",
       "      <th>average_montly_hours</th>\n",
       "      <th>time_spend_company</th>\n",
       "      <th>work_accident</th>\n",
       "      <th>churn</th>\n",
       "      <th>promotion</th>\n",
       "      <th>department</th>\n",
       "      <th>salary</th>\n",
       "      <th>IT</th>\n",
       "      <th>RandD</th>\n",
       "      <th>hr</th>\n",
       "      <th>management</th>\n",
       "      <th>marketing</th>\n",
       "      <th>product_mng</th>\n",
       "      <th>sales</th>\n",
       "      <th>support</th>\n",
       "      <th>technical</th>\n",
       "    </tr>\n",
       "  </thead>\n",
       "  <tbody>\n",
       "    <tr>\n",
       "      <th>0</th>\n",
       "      <td>0.38</td>\n",
       "      <td>0.53</td>\n",
       "      <td>2</td>\n",
       "      <td>157</td>\n",
       "      <td>3</td>\n",
       "      <td>0</td>\n",
       "      <td>1</td>\n",
       "      <td>0</td>\n",
       "      <td>sales</td>\n",
       "      <td>0</td>\n",
       "      <td>0</td>\n",
       "      <td>0</td>\n",
       "      <td>0</td>\n",
       "      <td>0</td>\n",
       "      <td>0</td>\n",
       "      <td>0</td>\n",
       "      <td>1</td>\n",
       "      <td>0</td>\n",
       "      <td>0</td>\n",
       "    </tr>\n",
       "    <tr>\n",
       "      <th>1</th>\n",
       "      <td>0.80</td>\n",
       "      <td>0.86</td>\n",
       "      <td>5</td>\n",
       "      <td>262</td>\n",
       "      <td>6</td>\n",
       "      <td>0</td>\n",
       "      <td>1</td>\n",
       "      <td>0</td>\n",
       "      <td>sales</td>\n",
       "      <td>1</td>\n",
       "      <td>0</td>\n",
       "      <td>0</td>\n",
       "      <td>0</td>\n",
       "      <td>0</td>\n",
       "      <td>0</td>\n",
       "      <td>0</td>\n",
       "      <td>1</td>\n",
       "      <td>0</td>\n",
       "      <td>0</td>\n",
       "    </tr>\n",
       "    <tr>\n",
       "      <th>2</th>\n",
       "      <td>0.11</td>\n",
       "      <td>0.88</td>\n",
       "      <td>7</td>\n",
       "      <td>272</td>\n",
       "      <td>4</td>\n",
       "      <td>0</td>\n",
       "      <td>1</td>\n",
       "      <td>0</td>\n",
       "      <td>sales</td>\n",
       "      <td>1</td>\n",
       "      <td>0</td>\n",
       "      <td>0</td>\n",
       "      <td>0</td>\n",
       "      <td>0</td>\n",
       "      <td>0</td>\n",
       "      <td>0</td>\n",
       "      <td>1</td>\n",
       "      <td>0</td>\n",
       "      <td>0</td>\n",
       "    </tr>\n",
       "    <tr>\n",
       "      <th>3</th>\n",
       "      <td>0.72</td>\n",
       "      <td>0.87</td>\n",
       "      <td>5</td>\n",
       "      <td>223</td>\n",
       "      <td>5</td>\n",
       "      <td>0</td>\n",
       "      <td>1</td>\n",
       "      <td>0</td>\n",
       "      <td>sales</td>\n",
       "      <td>0</td>\n",
       "      <td>0</td>\n",
       "      <td>0</td>\n",
       "      <td>0</td>\n",
       "      <td>0</td>\n",
       "      <td>0</td>\n",
       "      <td>0</td>\n",
       "      <td>1</td>\n",
       "      <td>0</td>\n",
       "      <td>0</td>\n",
       "    </tr>\n",
       "    <tr>\n",
       "      <th>4</th>\n",
       "      <td>0.37</td>\n",
       "      <td>0.52</td>\n",
       "      <td>2</td>\n",
       "      <td>159</td>\n",
       "      <td>3</td>\n",
       "      <td>0</td>\n",
       "      <td>1</td>\n",
       "      <td>0</td>\n",
       "      <td>sales</td>\n",
       "      <td>0</td>\n",
       "      <td>0</td>\n",
       "      <td>0</td>\n",
       "      <td>0</td>\n",
       "      <td>0</td>\n",
       "      <td>0</td>\n",
       "      <td>0</td>\n",
       "      <td>1</td>\n",
       "      <td>0</td>\n",
       "      <td>0</td>\n",
       "    </tr>\n",
       "    <tr>\n",
       "      <th>...</th>\n",
       "      <td>...</td>\n",
       "      <td>...</td>\n",
       "      <td>...</td>\n",
       "      <td>...</td>\n",
       "      <td>...</td>\n",
       "      <td>...</td>\n",
       "      <td>...</td>\n",
       "      <td>...</td>\n",
       "      <td>...</td>\n",
       "      <td>...</td>\n",
       "      <td>...</td>\n",
       "      <td>...</td>\n",
       "      <td>...</td>\n",
       "      <td>...</td>\n",
       "      <td>...</td>\n",
       "      <td>...</td>\n",
       "      <td>...</td>\n",
       "      <td>...</td>\n",
       "      <td>...</td>\n",
       "    </tr>\n",
       "    <tr>\n",
       "      <th>14994</th>\n",
       "      <td>0.40</td>\n",
       "      <td>0.57</td>\n",
       "      <td>2</td>\n",
       "      <td>151</td>\n",
       "      <td>3</td>\n",
       "      <td>0</td>\n",
       "      <td>1</td>\n",
       "      <td>0</td>\n",
       "      <td>support</td>\n",
       "      <td>0</td>\n",
       "      <td>0</td>\n",
       "      <td>0</td>\n",
       "      <td>0</td>\n",
       "      <td>0</td>\n",
       "      <td>0</td>\n",
       "      <td>0</td>\n",
       "      <td>0</td>\n",
       "      <td>1</td>\n",
       "      <td>0</td>\n",
       "    </tr>\n",
       "    <tr>\n",
       "      <th>14995</th>\n",
       "      <td>0.37</td>\n",
       "      <td>0.48</td>\n",
       "      <td>2</td>\n",
       "      <td>160</td>\n",
       "      <td>3</td>\n",
       "      <td>0</td>\n",
       "      <td>1</td>\n",
       "      <td>0</td>\n",
       "      <td>support</td>\n",
       "      <td>0</td>\n",
       "      <td>0</td>\n",
       "      <td>0</td>\n",
       "      <td>0</td>\n",
       "      <td>0</td>\n",
       "      <td>0</td>\n",
       "      <td>0</td>\n",
       "      <td>0</td>\n",
       "      <td>1</td>\n",
       "      <td>0</td>\n",
       "    </tr>\n",
       "    <tr>\n",
       "      <th>14996</th>\n",
       "      <td>0.37</td>\n",
       "      <td>0.53</td>\n",
       "      <td>2</td>\n",
       "      <td>143</td>\n",
       "      <td>3</td>\n",
       "      <td>0</td>\n",
       "      <td>1</td>\n",
       "      <td>0</td>\n",
       "      <td>support</td>\n",
       "      <td>0</td>\n",
       "      <td>0</td>\n",
       "      <td>0</td>\n",
       "      <td>0</td>\n",
       "      <td>0</td>\n",
       "      <td>0</td>\n",
       "      <td>0</td>\n",
       "      <td>0</td>\n",
       "      <td>1</td>\n",
       "      <td>0</td>\n",
       "    </tr>\n",
       "    <tr>\n",
       "      <th>14997</th>\n",
       "      <td>0.11</td>\n",
       "      <td>0.96</td>\n",
       "      <td>6</td>\n",
       "      <td>280</td>\n",
       "      <td>4</td>\n",
       "      <td>0</td>\n",
       "      <td>1</td>\n",
       "      <td>0</td>\n",
       "      <td>support</td>\n",
       "      <td>0</td>\n",
       "      <td>0</td>\n",
       "      <td>0</td>\n",
       "      <td>0</td>\n",
       "      <td>0</td>\n",
       "      <td>0</td>\n",
       "      <td>0</td>\n",
       "      <td>0</td>\n",
       "      <td>1</td>\n",
       "      <td>0</td>\n",
       "    </tr>\n",
       "    <tr>\n",
       "      <th>14998</th>\n",
       "      <td>0.37</td>\n",
       "      <td>0.52</td>\n",
       "      <td>2</td>\n",
       "      <td>158</td>\n",
       "      <td>3</td>\n",
       "      <td>0</td>\n",
       "      <td>1</td>\n",
       "      <td>0</td>\n",
       "      <td>support</td>\n",
       "      <td>0</td>\n",
       "      <td>0</td>\n",
       "      <td>0</td>\n",
       "      <td>0</td>\n",
       "      <td>0</td>\n",
       "      <td>0</td>\n",
       "      <td>0</td>\n",
       "      <td>0</td>\n",
       "      <td>1</td>\n",
       "      <td>0</td>\n",
       "    </tr>\n",
       "  </tbody>\n",
       "</table>\n",
       "<p>14999 rows × 19 columns</p>\n",
       "</div>"
      ],
      "text/plain": [
       "       satisfaction  evaluation  number_of_projects  average_montly_hours  \\\n",
       "0              0.38        0.53                   2                   157   \n",
       "1              0.80        0.86                   5                   262   \n",
       "2              0.11        0.88                   7                   272   \n",
       "3              0.72        0.87                   5                   223   \n",
       "4              0.37        0.52                   2                   159   \n",
       "...             ...         ...                 ...                   ...   \n",
       "14994          0.40        0.57                   2                   151   \n",
       "14995          0.37        0.48                   2                   160   \n",
       "14996          0.37        0.53                   2                   143   \n",
       "14997          0.11        0.96                   6                   280   \n",
       "14998          0.37        0.52                   2                   158   \n",
       "\n",
       "       time_spend_company  work_accident  churn  promotion department  salary  \\\n",
       "0                       3              0      1          0      sales       0   \n",
       "1                       6              0      1          0      sales       1   \n",
       "2                       4              0      1          0      sales       1   \n",
       "3                       5              0      1          0      sales       0   \n",
       "4                       3              0      1          0      sales       0   \n",
       "...                   ...            ...    ...        ...        ...     ...   \n",
       "14994                   3              0      1          0    support       0   \n",
       "14995                   3              0      1          0    support       0   \n",
       "14996                   3              0      1          0    support       0   \n",
       "14997                   4              0      1          0    support       0   \n",
       "14998                   3              0      1          0    support       0   \n",
       "\n",
       "       IT  RandD  hr  management  marketing  product_mng  sales  support  \\\n",
       "0       0      0   0           0          0            0      1        0   \n",
       "1       0      0   0           0          0            0      1        0   \n",
       "2       0      0   0           0          0            0      1        0   \n",
       "3       0      0   0           0          0            0      1        0   \n",
       "4       0      0   0           0          0            0      1        0   \n",
       "...    ..    ...  ..         ...        ...          ...    ...      ...   \n",
       "14994   0      0   0           0          0            0      0        1   \n",
       "14995   0      0   0           0          0            0      0        1   \n",
       "14996   0      0   0           0          0            0      0        1   \n",
       "14997   0      0   0           0          0            0      0        1   \n",
       "14998   0      0   0           0          0            0      0        1   \n",
       "\n",
       "       technical  \n",
       "0              0  \n",
       "1              0  \n",
       "2              0  \n",
       "3              0  \n",
       "4              0  \n",
       "...          ...  \n",
       "14994          0  \n",
       "14995          0  \n",
       "14996          0  \n",
       "14997          0  \n",
       "14998          0  \n",
       "\n",
       "[14999 rows x 19 columns]"
      ]
     },
     "execution_count": 7,
     "metadata": {},
     "output_type": "execute_result"
    }
   ],
   "source": [
    "# Borrar la columna 'accounting'\n",
    "departments = departments.drop(\"accounting\", axis=1)\n",
    "\n",
    "# Elimina la columna 'department' porque ya no será necesaria\n",
    "data1 = data0.drop(\"department\", axis=1)\n",
    "\n",
    "# Unir el el dataframe \"departments\" con el dataset de empleados\n",
    "# Se crean las columnas de los departamentos excepto por el departamento 'accounting'\n",
    "data1 = data0.join(departments)\n",
    "data1"
   ]
  },
  {
   "cell_type": "markdown",
   "metadata": {},
   "source": [
    "### Índice de Rotación de Empleados"
   ]
  },
  {
   "cell_type": "code",
   "execution_count": 8,
   "metadata": {},
   "outputs": [
    {
     "data": {
      "text/plain": [
       "0    76.191746\n",
       "1    23.808254\n",
       "Name: churn, dtype: float64"
      ]
     },
     "execution_count": 8,
     "metadata": {},
     "output_type": "execute_result"
    }
   ],
   "source": [
    "# Obtener el numero total de observaciones (filas) en %\n",
    "n_employees = len(data1)\n",
    "\n",
    "# Obtener el número de empleados que se mantienen en sus puestos y los que se dieron de baja\n",
    "data1.churn.value_counts()\n",
    "\n",
    "# Porcentaje de empleados activos(0)/baja(1)\n",
    "Ind_Rot_Emp = data1.churn.value_counts()/n_employees*100\n",
    "\n",
    "Ind_Rot_Emp"
   ]
  },
  {
   "cell_type": "markdown",
   "metadata": {},
   "source": [
    "### Correlación de rotación de empleados"
   ]
  },
  {
   "cell_type": "code",
   "execution_count": 9,
   "metadata": {},
   "outputs": [
    {
     "data": {
      "image/png": "[encoded data removed]",
      "text/plain": [
       "<Figure size 1080x576 with 2 Axes>"
      ]
     },
     "metadata": {
      "needs_background": "light"
     },
     "output_type": "display_data"
    }
   ],
   "source": [
    "# Eliminamos las columnas de los departamentos\n",
    "data2 = data1.drop(['IT','RandD','hr','management','marketing','product_mng','sales', 'support','technical'], axis=1)\n",
    "\n",
    "# Creamos la variable de la Correlación de las campos del dataframe 'data' con el método *corr()*\n",
    "corr_matrix = data2.corr()\n",
    "\n",
    "# Gráfico de 'mapa de calor', con los parámetros: mostrar datos, ancho de línea y secuencia de colores\n",
    "plot_heatmap = sns.heatmap(\n",
    "    corr_matrix,\n",
    "    annot=True,\n",
    "    linewidths=.1,\n",
    "    cmap=\"RdYlGn\"\n",
    "    )\n",
    "\n",
    "# Cambiar tamaño del mapa de calor\n",
    "plt.gcf().set_size_inches(15,8)"
   ]
  },
  {
   "cell_type": "markdown",
   "metadata": {},
   "source": [
    "## Primer Hallazgo\n",
    "\n",
    "#### En el gráfico se muestra que el coeficiente de correlación es negativo (-0.39) entre la satisfacción y la rotación del personal.\n",
    "#### Indica que a > satisfacción del empleado, menos probable será que se marche de la empresa."
   ]
  },
  {
   "cell_type": "markdown",
   "metadata": {},
   "source": [
    "## 2. Modelo de Predicción de Rotación"
   ]
  },
  {
   "cell_type": "markdown",
   "metadata": {},
   "source": [
    "### División de datos: Train/test split "
   ]
  },
  {
   "cell_type": "code",
   "execution_count": 10,
   "metadata": {},
   "outputs": [],
   "source": [
    "# Crear los dataframes de 'target' y 'features'\n",
    "\n",
    "# Definir el dataframe de la variable dependiente (churn)\n",
    "target = data0.churn\n",
    "\n",
    "# Definir el dataframe de las variables independientes\n",
    "features = data0.drop(['churn','department'], axis=1)"
   ]
  },
  {
   "cell_type": "markdown",
   "metadata": {},
   "source": [
    "### Limitar la produndidad máxima del árbol de decisión"
   ]
  },
  {
   "cell_type": "markdown",
   "metadata": {},
   "source": [
    "### Decision Tree classification"
   ]
  },
  {
   "cell_type": "code",
   "execution_count": 11,
   "metadata": {},
   "outputs": [],
   "source": [
    "# Usamos la función para crear las divisiones tanto para el 'target' como para 'features'\n",
    "# Establecer la muestra de la prueba para que sea el 25 % de sus observaciones\n",
    "target_train, target_test, features_train, features_test = train_test_split(\n",
    "    target,\n",
    "    features,\n",
    "    test_size=0.25,\n",
    "    random_state=42\n",
    "    )"
   ]
  },
  {
   "cell_type": "markdown",
   "metadata": {},
   "source": [
    "## 3. Evaluación del modelo de predicción de rotación"
   ]
  },
  {
   "cell_type": "markdown",
   "metadata": {},
   "source": [
    "### Precisión de la predicción\n",
    "\n",
    "#### Problema de sobreajuste"
   ]
  },
  {
   "cell_type": "code",
   "execution_count": 12,
   "metadata": {},
   "outputs": [
    {
     "name": "stdout",
     "output_type": "stream",
     "text": [
      "Sobreajuste:\n",
      "-> Precisión del conjunto de entrenamiento: 100.0\n",
      "-> Precisión del conjunto de prueba: 97.52\n"
     ]
    }
   ],
   "source": [
    "# Iniciar el modelo ajustando el parámetro 'ramdom_state'\n",
    "model = DecisionTreeClassifier(random_state=42)\n",
    "\n",
    "# Aplicar un modelo de árbol de decisión para ajustar\n",
    "# las características al objetivo en el conjunto de entrenamiento\n",
    "model.fit(features_train, target_train)\n",
    "\n",
    "# Verificar la puntuación de precisión de la predicción para el conjunto de entrenamiento\n",
    "score_train = model.score(features_train, target_train) * 100\n",
    "\n",
    "# Verificar la puntuación de precisión de la predicción para el conjunto de prueba\n",
    "score_test =model.score(features_test, target_test) * 100\n",
    "\n",
    "columns = list()\n",
    "\n",
    "# Exportar el árbol de decisión al formato 'dot'\n",
    "export_graphviz(model,\"tree.dot\")\n",
    "\n",
    "print(\n",
    "    'Sobreajuste:',\n",
    "    f'-> Precisión del conjunto de entrenamiento: {score_train}',\n",
    "    f'-> Precisión del conjunto de prueba: {score_test}',\n",
    "    sep='\\n'\n",
    "    )"
   ]
  },
  {
   "cell_type": "markdown",
   "metadata": {},
   "source": [
    "### Limitar la produndidad máxima del árbol de decisión"
   ]
  },
  {
   "cell_type": "code",
   "execution_count": 13,
   "metadata": {},
   "outputs": [
    {
     "name": "stdout",
     "output_type": "stream",
     "text": [
      "Límite máximo de profundidad:\n",
      "-> Precisión del conjunto de entrenamiento: 97.69\n",
      "-> Precisión del conjunto de prueba: 97.12\n"
     ]
    }
   ],
   "source": [
    "# Iniciar el modelo ajustando el parámetro 'ramdom_state'\n",
    "model_prof_5 = DecisionTreeClassifier(\n",
    "    max_depth=5,\n",
    "    random_state=42\n",
    "    )\n",
    "\n",
    "# Aplicar un modelo de árbol de decisión para ajustar\n",
    "# las características al objetivo en el conjunto de entrenamiento\n",
    "model_prof_5.fit(features_train, target_train)\n",
    "\n",
    "# Verificar la puntuación de precisión de la predicción para el conjunto de entrenamiento\n",
    "score_train = round(model_prof_5.score(features_train, target_train) * 100, 2)\n",
    "\n",
    "# Verificar la puntuación de precisión de la predicción para el conjunto de prueba\n",
    "score_test = round(model_prof_5.score(features_test, target_test) * 100, 2)\n",
    "\n",
    "# Exportar el árbol de decisión al formato 'dot'\n",
    "export_graphviz(model_prof_5,\"tree_prof.dot\")\n",
    "\n",
    "print(\n",
    "    'Límite máximo de profundidad:',\n",
    "    f'-> Precisión del conjunto de entrenamiento: {score_train}',\n",
    "    f'-> Precisión del conjunto de prueba: {score_test}',\n",
    "    sep='\\n'\n",
    "    )"
   ]
  },
  {
   "cell_type": "markdown",
   "metadata": {},
   "source": [
    "### Limitar al mínimo la muestra en cada hoja del árbol de decisión"
   ]
  },
  {
   "cell_type": "code",
   "execution_count": 14,
   "metadata": {},
   "outputs": [
    {
     "name": "stdout",
     "output_type": "stream",
     "text": [
      "Límite mínimo de la muestra por hoja:\n",
      "-> Precisión del conjunto de entrenamiento: 96.58\n",
      "-> Precisión del conjunto de prueba: 96.13\n"
     ]
    }
   ],
   "source": [
    "# Iniciar el modelo ajustando el parámetro 'ramdom_state'\n",
    "model_min_muestra = DecisionTreeClassifier(\n",
    "    min_samples_leaf=100,\n",
    "    random_state=42\n",
    "    )\n",
    "\n",
    "# Aplicar un modelo de árbol de decisión para ajustar\n",
    "# las características al objetivo en el conjunto de entrenamiento\n",
    "model_min_muestra.fit (features_train, target_train)\n",
    "\n",
    "# Verificar la puntuación de precisión de la predicción para el conjunto de entrenamiento\n",
    "score_train = round(model_min_muestra.score (features_train, target_train) * 100, 2)\n",
    "\n",
    "# Verificar la puntuación de precisión de la predicción para el conjunto de prueba\n",
    "score_test = round(model_min_muestra.score (features_test, target_test) * 100, 2)\n",
    "\n",
    "# Exportar el árbol de decisión al formato 'dot'\n",
    "export_graphviz(model_min_muestra,\"tree_muestra.dot\")\n",
    "\n",
    "print(\n",
    "    'Límite mínimo de la muestra por hoja:',\n",
    "    f'-> Precisión del conjunto de entrenamiento: {score_train}',\n",
    "    f'-> Precisión del conjunto de prueba: {score_test}',\n",
    "    sep='\\n'\n",
    "    )"
   ]
  },
  {
   "cell_type": "markdown",
   "metadata": {},
   "source": [
    "### Evaluación del Modelo"
   ]
  },
  {
   "cell_type": "markdown",
   "metadata": {},
   "source": [
    "#### Cálculo de las métricas de exactitud: precisión\n",
    "#### Falsos Positoos(FP)"
   ]
  },
  {
   "cell_type": "code",
   "execution_count": 15,
   "metadata": {},
   "outputs": [
    {
     "data": {
      "text/plain": [
       "93.51"
      ]
     },
     "execution_count": 15,
     "metadata": {},
     "output_type": "execute_result"
    }
   ],
   "source": [
    "# Predecir si los empleados abandonarán utilizando el conjunto de prueba\n",
    "prediction = model.predict (features_test)\n",
    "\n",
    "# Calcula la puntuación de precisión comparando target_test con la predicción\n",
    "round(precision_score(target_test, prediction)*100, 2)"
   ]
  },
  {
   "cell_type": "markdown",
   "metadata": {},
   "source": [
    "#### Cálculo de métricas de precisión: recuperación\n",
    "#### Falsos Negativos (FN)"
   ]
  },
  {
   "cell_type": "code",
   "execution_count": 16,
   "metadata": {},
   "outputs": [
    {
     "data": {
      "text/plain": [
       "96.32"
      ]
     },
     "execution_count": 16,
     "metadata": {},
     "output_type": "execute_result"
    }
   ],
   "source": [
    "# Utilizar el modelo inicial para predecir la deserción\n",
    "prediction = model.predict(features_test)\n",
    "\n",
    "# Calcular la puntuación de recuperación comparando target_test con la predicción\n",
    "puntuacion_rec = round(recall_score(target_test, prediction)*100,2)\n",
    "\n",
    "puntuacion_rec"
   ]
  },
  {
   "cell_type": "markdown",
   "metadata": {},
   "source": [
    "#### Cálculo de la puntuación ROC/AUC\n",
    "##### La combinación de esos dos resultados en la curva ROC nos permite medir tanto el recuerdo como la precisión. El área bajo la curva ROC se calcula como la puntuación AUC."
   ]
  },
  {
   "cell_type": "code",
   "execution_count": 17,
   "metadata": {},
   "outputs": [
    {
     "data": {
      "text/plain": [
       "97.11"
      ]
     },
     "execution_count": 17,
     "metadata": {},
     "output_type": "execute_result"
    }
   ],
   "source": [
    "# Usar el modelo inicial para predecir la deserción (basado en features_test)\n",
    "predicción = model.predict (features_test)\n",
    "\n",
    "# Calcular la puntuación ROC / AUC comparando target_test con la predicción\n",
    "puntuacion_roc_auc = round(roc_auc_score (target_test, predicción)*100,2)\n",
    "\n",
    "puntuacion_roc_auc"
   ]
  },
  {
   "cell_type": "markdown",
   "metadata": {},
   "source": [
    "#### Equilibrio de clases"
   ]
  },
  {
   "cell_type": "code",
   "execution_count": 18,
   "metadata": {},
   "outputs": [
    {
     "data": {
      "text/plain": [
       "93.57"
      ]
     },
     "execution_count": 18,
     "metadata": {},
     "output_type": "execute_result"
    }
   ],
   "source": [
    "# Inicializar el DecisionTreeClassifier\n",
    "model_depth_5_b = DecisionTreeClassifier(\n",
    "    max_depth = 5,\n",
    "    class_weight = \"balanced\",\n",
    "    random_state = 42\n",
    "    )\n",
    "\n",
    "# Encajar el modelo\n",
    "model_depth_5_b.fit (features_train, target_train)\n",
    "\n",
    "# Obtener la recisión de la predicción para el conjunto de prueba\n",
    "model_depth_5_b = round(model_depth_5_b.score(features_test, target_test)*100,2)\n",
    "\n",
    "model_depth_5_b"
   ]
  },
  {
   "cell_type": "markdown",
   "metadata": {},
   "source": [
    "#### Comparación de los modelos de abandono de los empleados"
   ]
  },
  {
   "cell_type": "code",
   "execution_count": 19,
   "metadata": {},
   "outputs": [
    {
     "name": "stdout",
     "output_type": "stream",
     "text": [
      "Puntación de Recuperación: 96.32\n",
      "Puntación ROC/AUC: 97.11\n",
      "Puntuación de recuperación del modelo equilibrado: 93.0\n",
      "Puntuación ROC/AUC para el modelo equilibrado: 97.11\n"
     ]
    }
   ],
   "source": [
    "# Inicializar el modelo con un máximo de profundidad de 7 niveles\n",
    "model_depth_7_b = DecisionTreeClassifier(max_depth = 7,\n",
    "class_weight = \"balanced\",\n",
    "random_state = 42\n",
    ")\n",
    "# Ajústelo al componente de entrenamiento\n",
    "model_depth_7_b.fit(features_train, target_train)\n",
    "\n",
    "# Hacer predicciones usando el componente de prueba\n",
    "prediction_b = model_depth_7_b.predict(features_test)\n",
    "\n",
    "puntuacion_model_bal = round(recall_score(target_test, prediction_b),2)*100\n",
    "\n",
    "puntuacion_model_roc_auc = round(roc_auc_score(target_test, prediction_b),2)*100\n",
    "\n",
    "# Puntuación de recuperación y la puntuación ROC / AUC\n",
    "print(\n",
    "    f'Puntación de Recuperación: {puntuacion_rec}',\n",
    "    f'Puntación ROC/AUC: {puntuacion_roc_auc}',\n",
    "    sep = '\\n'\n",
    "    )\n",
    "\n",
    "# Puntuación de recuperación del modelo balanceado\n",
    "# y la puntación ROC/AUC para el modelo balanceado\n",
    "print(\n",
    "    f'Puntuación de recuperación del modelo equilibrado: {puntuacion_model_bal}',\n",
    "    f'Puntuación ROC/AUC para el modelo equilibrado: {puntuacion_roc_auc}',\n",
    "    sep = '\\n'\n",
    "    )"
   ]
  },
  {
   "cell_type": "markdown",
   "metadata": {},
   "source": [
    "## 4. Elegir el mejor modelo de predicción de rotación"
   ]
  },
  {
   "cell_type": "markdown",
   "metadata": {},
   "source": [
    "### Validación cruzada con sklearn"
   ]
  },
  {
   "cell_type": "code",
   "execution_count": 20,
   "metadata": {},
   "outputs": [
    {
     "data": {
      "text/plain": [
       "array([0.98333333, 0.982     , 0.97333333, 0.96266667, 0.95733333,\n",
       "       0.974     , 0.988     , 0.992     , 1.        , 1.        ])"
      ]
     },
     "execution_count": 20,
     "metadata": {},
     "output_type": "execute_result"
    }
   ],
   "source": [
    "# Utilice esa función para imprimir la puntuación de validación cruzada para 10 pliegues\n",
    "validacion_cruzada = cross_val_score(model,features,target,cv=10)\n",
    "\n",
    "validacion_cruzada"
   ]
  },
  {
   "cell_type": "markdown",
   "metadata": {},
   "source": [
    "#### Configuración de los parámetros de GridSearch"
   ]
  },
  {
   "cell_type": "code",
   "execution_count": 21,
   "metadata": {},
   "outputs": [
    {
     "name": "stdout",
     "output_type": "stream",
     "text": [
      "Mejores parámetros para el modelo: {'max_depth': 5, 'min_samples_leaf': 50}\n"
     ]
    }
   ],
   "source": [
    "# Generar valores para máxima profundidad\n",
    "depth = [i for i in range(5,21,1)]\n",
    "\n",
    "# Generar valores para el tamaño mínimo de la muestra\n",
    "samples = [i for i in range(50,500,50)]\n",
    "\n",
    "# Crear el diccionario con los parámetros a verificar\n",
    "parameters = dict(max_depth=depth, min_samples_leaf=samples)\n",
    "\n",
    "# Configurar parámetros del diccionario\n",
    "parameters = dict(max_depth=depth, min_samples_leaf=samples)\n",
    "\n",
    "# Ajustar la función GridSearchCV con el modelo inicial y los parámetros anteriores\n",
    "param_search = GridSearchCV(model, parameters)\n",
    "\n",
    "# Ajustar param_search al conjunto de datos de entrenamiento\n",
    "param_search.fit(features_train, target_train)\n",
    "\n",
    "print(f'Mejores parámetros para el modelo: {param_search.best_params_}')"
   ]
  },
  {
   "cell_type": "markdown",
   "metadata": {},
   "source": [
    "#### Clasificación de las características importantes"
   ]
  },
  {
   "cell_type": "code",
   "execution_count": 23,
   "metadata": {},
   "outputs": [
    {
     "data": {
      "text/html": [
       "<div>\n",
       "<style scoped>\n",
       "    .dataframe tbody tr th:only-of-type {\n",
       "        vertical-align: middle;\n",
       "    }\n",
       "\n",
       "    .dataframe tbody tr th {\n",
       "        vertical-align: top;\n",
       "    }\n",
       "\n",
       "    .dataframe thead th {\n",
       "        text-align: right;\n",
       "    }\n",
       "</style>\n",
       "<table border=\"1\" class=\"dataframe\">\n",
       "  <thead>\n",
       "    <tr style=\"text-align: right;\">\n",
       "      <th></th>\n",
       "      <th>importance</th>\n",
       "    </tr>\n",
       "  </thead>\n",
       "  <tbody>\n",
       "    <tr>\n",
       "      <th>satisfaction</th>\n",
       "      <td>0.481711</td>\n",
       "    </tr>\n",
       "    <tr>\n",
       "      <th>time_spend_company</th>\n",
       "      <td>0.358765</td>\n",
       "    </tr>\n",
       "    <tr>\n",
       "      <th>evaluation</th>\n",
       "      <td>0.088027</td>\n",
       "    </tr>\n",
       "    <tr>\n",
       "      <th>average_montly_hours</th>\n",
       "      <td>0.038531</td>\n",
       "    </tr>\n",
       "    <tr>\n",
       "      <th>number_of_projects</th>\n",
       "      <td>0.032966</td>\n",
       "    </tr>\n",
       "    <tr>\n",
       "      <th>work_accident</th>\n",
       "      <td>0.000000</td>\n",
       "    </tr>\n",
       "    <tr>\n",
       "      <th>promotion</th>\n",
       "      <td>0.000000</td>\n",
       "    </tr>\n",
       "    <tr>\n",
       "      <th>salary</th>\n",
       "      <td>0.000000</td>\n",
       "    </tr>\n",
       "  </tbody>\n",
       "</table>\n",
       "</div>"
      ],
      "text/plain": [
       "                      importance\n",
       "satisfaction            0.481711\n",
       "time_spend_company      0.358765\n",
       "evaluation              0.088027\n",
       "average_montly_hours    0.038531\n",
       "number_of_projects      0.032966\n",
       "work_accident           0.000000\n",
       "promotion               0.000000\n",
       "salary                  0.000000"
      ]
     },
     "execution_count": 23,
     "metadata": {},
     "output_type": "execute_result"
    }
   ],
   "source": [
    "# Configurar los parámetros del mejor modelo\n",
    "model_best = DecisionTreeClassifier(\n",
    "    max_depth=8,\n",
    "    min_samples_leaf=150,\n",
    "    class_weight=\"balanced\",\n",
    "    random_state=42\n",
    "    )\n",
    "\n",
    "# Ajustar el modelo usando solo las características seleccionadas del conjunto de entrenamiento\n",
    "model_best.fit(features_train, target_train)\n",
    "\n",
    "# Calcular la importancia de las características\n",
    "feature_importances = model_best.feature_importances_\n",
    "\n",
    "# Crear una lista de características\n",
    "feature_list = list(features)\n",
    "\n",
    "# Crear el dataframe con el índice de características\n",
    "relative_importances = pd.DataFrame(\n",
    "    index=feature_list,\n",
    "    data=feature_importances,\n",
    "    columns=[\"importance\"]\n",
    "    )\n",
    "\n",
    "# Ordenar los valores del dataframe 'relative_importances' de manera descendente\n",
    "relative_importances.sort_values(\n",
    "    by=\"importance\",\n",
    "    ascending=False\n",
    "    )"
   ]
  },
  {
   "cell_type": "markdown",
   "metadata": {},
   "source": [
    "#### Selección de características importantes"
   ]
  },
  {
   "cell_type": "code",
   "execution_count": 24,
   "metadata": {},
   "outputs": [],
   "source": [
    "# Seleccionar solo características con uan importancia relativa superior al 1%\n",
    "selected_features = relative_importances[relative_importances.importance>0.01]\n",
    "\n",
    "# Crear una lista de esas características\n",
    "selected_list = selected_features.index\n",
    "\n",
    "# transformar los componentes 'features_train' y 'features_test' para incluir solo las características seleccionadas\n",
    "features_train_selected = features_train[selected_list]\n",
    "features_test_selected = features_test[selected_list]"
   ]
  },
  {
   "cell_type": "markdown",
   "metadata": {},
   "source": [
    "#### Desarrollar y probar el mejor modelo"
   ]
  },
  {
   "cell_type": "code",
   "execution_count": 26,
   "metadata": {},
   "outputs": [
    {
     "name": "stdout",
     "output_type": "stream",
     "text": [
      "95.28\n",
      "91.75027870680044\n",
      "94.07002193314084\n"
     ]
    }
   ],
   "source": [
    "# Initialize the best model using parameters provided in description\n",
    "model_best = DecisionTreeClassifier(max_depth=8, min_samples_leaf=150, class_weight=\"balanced\", random_state=42)\n",
    "\n",
    "# Fit the model using only selected features from training set: done\n",
    "model_best.fit(features_train_selected, target_train)\n",
    "\n",
    "# Make prediction based on selected list of features from test set\n",
    "prediction_best = model_best.predict(features_test_selected)\n",
    "\n",
    "# Print the general accuracy of the model_best\n",
    "print(model_best.score(features_test_selected, target_test)*100)\n",
    "\n",
    "# Print the recall score of the model predictions\n",
    "print(recall_score(target_test, prediction_best)*100)\n",
    "\n",
    "# Print the ROC/AUC score of the model predictions\n",
    "print(roc_auc_score(target_test, prediction_best)*100)"
   ]
  }
 ],
 "metadata": {
  "interpreter": {
   "hash": "b3ba2566441a7c06988d0923437866b63cedc61552a5af99d1f4fb67d367b25f"
  },
  "kernelspec": {
   "display_name": "Python 3.8.8 64-bit ('base': conda)",
   "language": "python",
   "name": "python3"
  },
  "language_info": {
   "codemirror_mode": {
    "name": "ipython",
    "version": 3
   },
   "file_extension": ".py",
   "mimetype": "text/x-python",
   "name": "python",
   "nbconvert_exporter": "python",
   "pygments_lexer": "ipython3",
   "version": "3.8.8"
  },
  "orig_nbformat": 4
 },
 "nbformat": 4,
 "nbformat_minor": 2
}
